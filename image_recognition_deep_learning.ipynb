{
  "nbformat": 4,
  "nbformat_minor": 0,
  "metadata": {
    "colab": {
      "name": "image_recognition_deep_learning.ipynb",
      "provenance": [],
      "authorship_tag": "ABX9TyPYoti26qtlp8SVasI06+S5",
      "include_colab_link": true
    },
    "kernelspec": {
      "name": "python3",
      "display_name": "Python 3"
    }
  },
  "cells": [
    {
      "cell_type": "markdown",
      "metadata": {
        "id": "view-in-github",
        "colab_type": "text"
      },
      "source": [
        "<a href=\"https://colab.research.google.com/github/cindy-cyber/image_recognition/blob/main/image_recognition_deep_learning.ipynb\" target=\"_parent\"><img src=\"https://colab.research.google.com/assets/colab-badge.svg\" alt=\"Open In Colab\"/></a>"
      ]
    },
    {
      "cell_type": "code",
      "metadata": {
        "id": "iQzLQI7N0Pcp"
      },
      "source": [
        "import tensorflow as tf\n",
        "from tensorflow import keras #add layers\n",
        "import matplotlib.pyplot as plt #graphing library"
      ],
      "execution_count": 4,
      "outputs": []
    },
    {
      "cell_type": "code",
      "metadata": {
        "id": "47AmKXMv2Bqh",
        "colab": {
          "base_uri": "https://localhost:8080/",
          "height": 434
        },
        "outputId": "7f351c91-1010-41e8-caf2-f0430bace74c"
      },
      "source": [
        "########data processing phase\n",
        "\n",
        "#load dataset\n",
        "data = keras.datasets.fashion_mnist #instead of loading a csv\n",
        "\n",
        "#split data\n",
        "(train_images, train_labels),(test_images,test_labels) = data.load_data()\n",
        "\n",
        "#observe data\n",
        "print(train_images.shape)\n",
        "\n",
        "# the labels are just numbers.\n",
        "# to make our lives easier, lets map the numbers to class names \n",
        "class_names = ['T-shirt/top', 'Trouser', 'Pullover', 'Dress', 'Coat',\n",
        "               'Sandal', 'Shirt', 'Sneaker', 'Bag', 'Ankle boot']\n",
        "\n",
        "index = 9\n",
        "image = train_images[index] #0-5999\n",
        "label = train_labels[index]\n",
        "\n",
        "plt.imshow(image)\n",
        "plt.title(class_names[label]) #all the labels are numbers, we need to name the bucket\n",
        "plt.show()"
      ],
      "execution_count": 5,
      "outputs": [
        {
          "output_type": "stream",
          "text": [
            "Downloading data from https://storage.googleapis.com/tensorflow/tf-keras-datasets/train-labels-idx1-ubyte.gz\n",
            "32768/29515 [=================================] - 0s 0us/step\n",
            "Downloading data from https://storage.googleapis.com/tensorflow/tf-keras-datasets/train-images-idx3-ubyte.gz\n",
            "26427392/26421880 [==============================] - 0s 0us/step\n",
            "Downloading data from https://storage.googleapis.com/tensorflow/tf-keras-datasets/t10k-labels-idx1-ubyte.gz\n",
            "8192/5148 [===============================================] - 0s 0us/step\n",
            "Downloading data from https://storage.googleapis.com/tensorflow/tf-keras-datasets/t10k-images-idx3-ubyte.gz\n",
            "4423680/4422102 [==============================] - 0s 0us/step\n",
            "(60000, 28, 28)\n"
          ],
          "name": "stdout"
        },
        {
          "output_type": "display_data",
          "data": {
            "image/png": "[encoded data removed]",
            "text/plain": [
              "<Figure size 432x288 with 1 Axes>"
            ]
          },
          "metadata": {
            "tags": [],
            "needs_background": "light"
          }
        }
      ]
    },
    {
      "cell_type": "code",
      "metadata": {
        "id": "ZLxGbogn516z"
      },
      "source": [
        "#keras API expexts 4 dimensions, need to reshape\n",
        "#(60000, 28,28, 1) since we dont have rgb or stuff\n",
        "train_images = train_images.reshape((train_images.shape[0],28,28,1)) #all images reshape to 28,28 -> 28,28,1, leave the 60000 alone\n",
        "test_images =  test_images.reshape((test_images.shape[0],28,28,1))\n",
        "\n",
        "#plt.imshow(image)\n",
        "#plt.title(class_names[label])\n",
        "#plt.show()\n"
      ],
      "execution_count": 6,
      "outputs": []
    },
    {
      "cell_type": "code",
      "metadata": {
        "id": "NF3QwzXH7dA1"
      },
      "source": [
        "#shrink our dataset, from 0,255 to 0,1(normalize)\n",
        "train_images = train_images/255.0 #(numpy arrays does it to every entry, brightness is the only factor here) \n",
        "test_images =  test_images/255.0  \n"
      ],
      "execution_count": 7,
      "outputs": []
    },
    {
      "cell_type": "markdown",
      "metadata": {
        "id": "7mfgc-DZDdA8"
      },
      "source": [
        "[ [255, 128, … 128, 0]] [ [1.0, 0.5, …. 0.5, 0] ], the brightness of everything\n"
      ]
    },
    {
      "cell_type": "code",
      "metadata": {
        "id": "_bSIKRSJ8c6D",
        "colab": {
          "base_uri": "https://localhost:8080/"
        },
        "outputId": "87db0b1f-f798-474c-f10d-1d5b5be0ce89"
      },
      "source": [
        "#stacking the layers\n",
        "model = keras.Sequential()\n",
        "#input layer flatten from 2D list to 1D\n",
        "model.add(keras.layers.Conv2D(28, (8,8), padding = \"same\", activation = \"relu\"))   \n",
        "\n",
        "\n",
        "#model.add(keras.layers.Conv2D(1, (18,18), padding = \"same\", activation = \"relu\"))#adding two many conv2D doesnt help with anything but slows down the speed\n",
        "#model.add(keras.layers.GlobalMaxPooling2D()) #generate a value that will summarize the strongest activation or presence of the vertical line in the input image.\n",
        "model.add(keras.layers.Flatten(input_shape = (28,28,1))) #first layer\n",
        "\n",
        "model.add(keras.layers.Dense(50, activation = \"relu\"))\n",
        "\n",
        "#continue to add layers\n",
        "#use 10 different filters, each with the size\n",
        "#keras.layers.Flatten()\n",
        "#output\n",
        "#10 classes -> 10 neurons, softmax(like sigmoid, probablity) for polynomial classification\n",
        "model.add(keras.layers.Dense(10,activation = \"softmax\"))\n",
        "\n",
        "#compile the model\n",
        "#loss: categorical, how to calculate the loss function cuz we have multiple buckets\n",
        "model.compile(optimizer=\"Adam\", loss=\"sparse_categorical_crossentropy\", metrics=[\"accuracy\"])\n",
        "\n",
        "#train the model\n",
        "model.fit(train_images, train_labels, epochs = 10)\n",
        "model.summary()\n"
      ],
      "execution_count": 13,
      "outputs": [
        {
          "output_type": "stream",
          "text": [
            "Epoch 1/10\n",
            "1875/1875 [==============================] - 68s 36ms/step - loss: 0.5206 - accuracy: 0.8130\n",
            "Epoch 2/10\n",
            "1875/1875 [==============================] - 68s 36ms/step - loss: 0.2838 - accuracy: 0.8960\n",
            "Epoch 3/10\n",
            "1875/1875 [==============================] - 68s 36ms/step - loss: 0.2295 - accuracy: 0.9155\n",
            "Epoch 4/10\n",
            "1875/1875 [==============================] - 68s 36ms/step - loss: 0.1940 - accuracy: 0.9297\n",
            "Epoch 5/10\n",
            "1875/1875 [==============================] - 68s 36ms/step - loss: 0.1667 - accuracy: 0.9375\n",
            "Epoch 6/10\n",
            "1875/1875 [==============================] - 68s 36ms/step - loss: 0.1379 - accuracy: 0.9485\n",
            "Epoch 7/10\n",
            "1875/1875 [==============================] - 68s 36ms/step - loss: 0.1135 - accuracy: 0.9571\n",
            "Epoch 8/10\n",
            "1875/1875 [==============================] - 67s 36ms/step - loss: 0.0944 - accuracy: 0.9654\n",
            "Epoch 9/10\n",
            "1875/1875 [==============================] - 67s 36ms/step - loss: 0.0804 - accuracy: 0.9706\n",
            "Epoch 10/10\n",
            "1875/1875 [==============================] - 69s 37ms/step - loss: 0.0652 - accuracy: 0.9764\n",
            "Model: \"sequential_3\"\n",
            "_________________________________________________________________\n",
            "Layer (type)                 Output Shape              Param #   \n",
            "=================================================================\n",
            "conv2d_3 (Conv2D)            (32, 28, 28, 28)          1820      \n",
            "_________________________________________________________________\n",
            "flatten_1 (Flatten)          (32, 21952)               0         \n",
            "_________________________________________________________________\n",
            "dense_2 (Dense)              (32, 50)                  1097650   \n",
            "_________________________________________________________________\n",
            "dense_3 (Dense)              (32, 10)                  510       \n",
            "=================================================================\n",
            "Total params: 1,099,980\n",
            "Trainable params: 1,099,980\n",
            "Non-trainable params: 0\n",
            "_________________________________________________________________\n"
          ],
          "name": "stdout"
        }
      ]
    },
    {
      "cell_type": "markdown",
      "metadata": {
        "id": "vVy0a6ukEDXt"
      },
      "source": [
        "12730 = 12704 + 10 + 26"
      ]
    },
    {
      "cell_type": "code",
      "metadata": {
        "id": "cAQC8gJJEwom",
        "colab": {
          "base_uri": "https://localhost:8080/"
        },
        "outputId": "ec398a5a-7a6c-4590-9789-d75015b13b4e"
      },
      "source": [
        "test_loss, test_accuracy = model.evaluate(test_images,test_labels)\n",
        "print(test_loss, test_accuracy)"
      ],
      "execution_count": 14,
      "outputs": [
        {
          "output_type": "stream",
          "text": [
            "313/313 [==============================] - 4s 13ms/step - loss: 0.4044 - accuracy: 0.9018\n",
            "0.40441226959228516 0.9017999768257141\n"
          ],
          "name": "stdout"
        }
      ]
    },
    {
      "cell_type": "code",
      "metadata": {
        "id": "0GGHFubLGOzH",
        "colab": {
          "base_uri": "https://localhost:8080/"
        },
        "outputId": "f390d196-4ecf-46f3-fee9-f7b9f47e827f"
      },
      "source": [
        "#predict\n",
        "import numpy as np\n",
        "predictions = model.predict(test_images)\n",
        "index = 5\n",
        "#the list of confidence levels\n",
        "print(predictions[index])\n",
        "predicted_label_index = np.argmax(predictions[index])\n",
        "predicted_class_label =  class_names[predicted_label_index]\n",
        "actual_label_index = test_labels[index]\n",
        "actual_class_label = class_names[actual_label_index]\n",
        "print(predicted_class_label, actual_class_label)"
      ],
      "execution_count": 15,
      "outputs": [
        {
          "output_type": "stream",
          "text": [
            "[1.7903794e-16 1.0000000e+00 1.9999578e-24 7.2407510e-15 1.9811547e-26\n",
            " 8.8710532e-21 1.7080889e-20 2.5811032e-20 1.7403781e-18 3.7044681e-23]\n",
            "Trouser Trouser\n"
          ],
          "name": "stdout"
        }
      ]
    },
    {
      "cell_type": "code",
      "metadata": {
        "id": "UI8ytOe0QRB0"
      },
      "source": [
        "from google.colab import drive\n",
        "drive.mount('/content/drive')"
      ],
      "execution_count": null,
      "outputs": []
    }
  ]
}